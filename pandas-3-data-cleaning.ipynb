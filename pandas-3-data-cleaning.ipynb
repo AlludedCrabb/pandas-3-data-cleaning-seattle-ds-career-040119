{
 "cells": [
  {
   "cell_type": "markdown",
   "metadata": {},
   "source": [
    "# Data Cleaning with Pandas"
   ]
  },
  {
   "cell_type": "code",
   "execution_count": 46,
   "metadata": {},
   "outputs": [],
   "source": [
    "import pandas as pd\n",
    "import numpy as np"
   ]
  },
  {
   "cell_type": "markdown",
   "metadata": {},
   "source": [
    "## Scenario\n",
    "\n",
    "As data scientists, we want to build a model to predict the sale price of a house in Seattle in 2019, based on its square footage. We know that the King County Department of Assessments has comprehensive data available on real property sales in the Seattle area. We need to prepare the data."
   ]
  },
  {
   "cell_type": "markdown",
   "metadata": {},
   "source": [
    "### First, get the data!\n",
    "\n",
    "When working on a project involving data that can fit on our computer, we store it in a `data` directory.\n",
    "\n",
    "```bash\n",
    "cd <project_directory>  # example: cd ~/flatiron_ds/pandas-3\n",
    "mkdir data\n",
    "cd data\n",
    "```\n",
    "\n",
    "Note that `<project_directory>` in angle brackets is a _placeholder_. You should type the path to the actual location on your computer where you're working on this project. Do not literally type `<project_directory>` and _do not type the angle brackets_. You can see an example in the _comment_ to the right of the command above.\n",
    "\n",
    "Now, we'll need to download the two data files that we need. We can do this at the command line:\n",
    "\n",
    "```bash\n",
    "wget https://aqua.kingcounty.gov/extranet/assessor/Real%20Property%20Sales.zip\n",
    "wget https://aqua.kingcounty.gov/extranet/assessor/Residential%20Building.zip\n",
    "```\n",
    "\n",
    "*Note:* If you do not have the `wget` command yet, you can install it: `brew install wget`.\n",
    "\n",
    "Note that `%20` in a URL translates into a space. Even though you will *never put spaces in filenames*, you may need to deal with spaces that _other_ people have used in filenames.\n",
    "\n",
    "There are two ways to handle the spaces in these filenames when referencing them at the command line.\n",
    "\n",
    "#### 1. You can _escape_ the spaces by putting a backslash (`\\`, remember _backslash is next to backspace_) before each one:\n",
    "\n",
    "`unzip Real\\ Property\\ Sales.zip`\n",
    "\n",
    "This is what happens if you tab-complete the filename in the terminal. Tab completion is your friend!\n",
    "\n",
    "#### 2. You can put the entire filename in quotes:\n",
    "\n",
    "`unzip \"Real Property Sales.zip\"`\n",
    "\n",
    "Try unzipping these files with the `unzip` command. The `unzip` command takes one argument, the name of the tile that you want to unzip.\n",
    "\n",
    "\n",
    "You can use tab completion (press the `tab` key after the first three letters) to fill in the names, including spaces. This will "
   ]
  },
  {
   "cell_type": "code",
   "execution_count": 47,
   "metadata": {
    "scrolled": true
   },
   "outputs": [
    {
     "name": "stderr",
     "output_type": "stream",
     "text": [
      "/anaconda3/envs/learn-env/lib/python3.6/site-packages/IPython/core/interactiveshell.py:2785: DtypeWarning: Columns (1,2) have mixed types. Specify dtype option on import or set low_memory=False.\n",
      "  interactivity=interactivity, compiler=compiler, result=result)\n"
     ]
    }
   ],
   "source": [
    "sales_df = pd.read_csv('data/EXTR_RPSale.csv')"
   ]
  },
  {
   "cell_type": "markdown",
   "metadata": {},
   "source": [
    "### Seeing pink? Warnings are useful!\n",
    "\n",
    "Note the warning above: `DtypeWarning: Columns (1, 2) have mixed types.` Because we start with an index of zero, the columns that we're being warned about are actually the _second_ and _third_ columns, `sales_df['Major']` and `sales_df['Minor']`."
   ]
  },
  {
   "cell_type": "code",
   "execution_count": 48,
   "metadata": {
    "scrolled": false
   },
   "outputs": [
    {
     "data": {
      "text/plain": [
       "Index(['ExciseTaxNbr', 'Major', 'Minor', 'DocumentDate', 'SalePrice',\n",
       "       'RecordingNbr', 'Volume', 'Page', 'PlatNbr', 'PlatType', 'PlatLot',\n",
       "       'PlatBlock', 'SellerName', 'BuyerName', 'PropertyType', 'PrincipalUse',\n",
       "       'SaleInstrument', 'AFForestLand', 'AFCurrentUseLand', 'AFNonProfitUse',\n",
       "       'AFHistoricProperty', 'SaleReason', 'PropertyClass', 'SaleWarning'],\n",
       "      dtype='object')"
      ]
     },
     "execution_count": 48,
     "metadata": {},
     "output_type": "execute_result"
    }
   ],
   "source": [
    "sales_df.columns"
   ]
  },
  {
   "cell_type": "markdown",
   "metadata": {},
   "source": [
    "what information do I want to use? what processes generated the data you're looking to use, what data was made using different processes?"
   ]
  },
  {
   "cell_type": "code",
   "execution_count": 49,
   "metadata": {},
   "outputs": [
    {
     "data": {
      "text/html": [
       "<div>\n",
       "<style scoped>\n",
       "    .dataframe tbody tr th:only-of-type {\n",
       "        vertical-align: middle;\n",
       "    }\n",
       "\n",
       "    .dataframe tbody tr th {\n",
       "        vertical-align: top;\n",
       "    }\n",
       "\n",
       "    .dataframe thead th {\n",
       "        text-align: right;\n",
       "    }\n",
       "</style>\n",
       "<table border=\"1\" class=\"dataframe\">\n",
       "  <thead>\n",
       "    <tr style=\"text-align: right;\">\n",
       "      <th></th>\n",
       "      <th>0</th>\n",
       "      <th>1</th>\n",
       "      <th>2</th>\n",
       "      <th>3</th>\n",
       "      <th>4</th>\n",
       "    </tr>\n",
       "  </thead>\n",
       "  <tbody>\n",
       "    <tr>\n",
       "      <th>ExciseTaxNbr</th>\n",
       "      <td>2687551</td>\n",
       "      <td>1235111</td>\n",
       "      <td>2704079</td>\n",
       "      <td>2584094</td>\n",
       "      <td>1056831</td>\n",
       "    </tr>\n",
       "    <tr>\n",
       "      <th>Major</th>\n",
       "      <td>138860</td>\n",
       "      <td>664885</td>\n",
       "      <td>423943</td>\n",
       "      <td>403700</td>\n",
       "      <td>951120</td>\n",
       "    </tr>\n",
       "    <tr>\n",
       "      <th>Minor</th>\n",
       "      <td>110</td>\n",
       "      <td>40</td>\n",
       "      <td>50</td>\n",
       "      <td>715</td>\n",
       "      <td>900</td>\n",
       "    </tr>\n",
       "    <tr>\n",
       "      <th>DocumentDate</th>\n",
       "      <td>08/21/2014</td>\n",
       "      <td>07/09/1991</td>\n",
       "      <td>10/11/2014</td>\n",
       "      <td>01/04/2013</td>\n",
       "      <td>04/20/1989</td>\n",
       "    </tr>\n",
       "    <tr>\n",
       "      <th>SalePrice</th>\n",
       "      <td>245000</td>\n",
       "      <td>0</td>\n",
       "      <td>0</td>\n",
       "      <td>0</td>\n",
       "      <td>85000</td>\n",
       "    </tr>\n",
       "    <tr>\n",
       "      <th>RecordingNbr</th>\n",
       "      <td>20140828001436</td>\n",
       "      <td>199203161090</td>\n",
       "      <td>20141205000558</td>\n",
       "      <td>20130110000910</td>\n",
       "      <td>198904260448</td>\n",
       "    </tr>\n",
       "    <tr>\n",
       "      <th>Volume</th>\n",
       "      <td></td>\n",
       "      <td>071</td>\n",
       "      <td></td>\n",
       "      <td></td>\n",
       "      <td>117</td>\n",
       "    </tr>\n",
       "    <tr>\n",
       "      <th>Page</th>\n",
       "      <td></td>\n",
       "      <td>001</td>\n",
       "      <td></td>\n",
       "      <td></td>\n",
       "      <td>053</td>\n",
       "    </tr>\n",
       "    <tr>\n",
       "      <th>PlatNbr</th>\n",
       "      <td></td>\n",
       "      <td>664885</td>\n",
       "      <td></td>\n",
       "      <td></td>\n",
       "      <td>951120</td>\n",
       "    </tr>\n",
       "    <tr>\n",
       "      <th>PlatType</th>\n",
       "      <td></td>\n",
       "      <td>C</td>\n",
       "      <td></td>\n",
       "      <td></td>\n",
       "      <td>P</td>\n",
       "    </tr>\n",
       "    <tr>\n",
       "      <th>PlatLot</th>\n",
       "      <td></td>\n",
       "      <td>B102</td>\n",
       "      <td></td>\n",
       "      <td></td>\n",
       "      <td>90</td>\n",
       "    </tr>\n",
       "    <tr>\n",
       "      <th>PlatBlock</th>\n",
       "      <td></td>\n",
       "      <td></td>\n",
       "      <td></td>\n",
       "      <td></td>\n",
       "      <td></td>\n",
       "    </tr>\n",
       "    <tr>\n",
       "      <th>SellerName</th>\n",
       "      <td>WENKLE NOEL SMITH -TRUSTEE                    ...</td>\n",
       "      <td>HERRMAN JEFFREY A+PAULINE A                   ...</td>\n",
       "      <td>STEPHENS ANTHONY P                            ...</td>\n",
       "      <td>PASTORS EDWIN                                 ...</td>\n",
       "      <td>STRATHY FLORENCE G                            ...</td>\n",
       "    </tr>\n",
       "    <tr>\n",
       "      <th>BuyerName</th>\n",
       "      <td>ALEXANDER APRIL                               ...</td>\n",
       "      <td>HERRMAN PAULINE A TTEE                        ...</td>\n",
       "      <td>STEPHENS ANTHONY P                            ...</td>\n",
       "      <td>PASTORS KHRISTINA                             ...</td>\n",
       "      <td>PORTER DONALD D+EVELYN V                      ...</td>\n",
       "    </tr>\n",
       "    <tr>\n",
       "      <th>PropertyType</th>\n",
       "      <td>3</td>\n",
       "      <td>3</td>\n",
       "      <td>3</td>\n",
       "      <td>3</td>\n",
       "      <td>3</td>\n",
       "    </tr>\n",
       "    <tr>\n",
       "      <th>PrincipalUse</th>\n",
       "      <td>6</td>\n",
       "      <td>0</td>\n",
       "      <td>6</td>\n",
       "      <td>6</td>\n",
       "      <td>0</td>\n",
       "    </tr>\n",
       "    <tr>\n",
       "      <th>SaleInstrument</th>\n",
       "      <td>3</td>\n",
       "      <td>26</td>\n",
       "      <td>15</td>\n",
       "      <td>15</td>\n",
       "      <td>2</td>\n",
       "    </tr>\n",
       "    <tr>\n",
       "      <th>AFForestLand</th>\n",
       "      <td>N</td>\n",
       "      <td>N</td>\n",
       "      <td>N</td>\n",
       "      <td>N</td>\n",
       "      <td>N</td>\n",
       "    </tr>\n",
       "    <tr>\n",
       "      <th>AFCurrentUseLand</th>\n",
       "      <td>N</td>\n",
       "      <td>N</td>\n",
       "      <td>N</td>\n",
       "      <td>N</td>\n",
       "      <td>N</td>\n",
       "    </tr>\n",
       "    <tr>\n",
       "      <th>AFNonProfitUse</th>\n",
       "      <td>N</td>\n",
       "      <td>N</td>\n",
       "      <td>N</td>\n",
       "      <td>N</td>\n",
       "      <td>N</td>\n",
       "    </tr>\n",
       "    <tr>\n",
       "      <th>AFHistoricProperty</th>\n",
       "      <td>N</td>\n",
       "      <td>N</td>\n",
       "      <td>N</td>\n",
       "      <td>N</td>\n",
       "      <td>N</td>\n",
       "    </tr>\n",
       "    <tr>\n",
       "      <th>SaleReason</th>\n",
       "      <td>1</td>\n",
       "      <td>18</td>\n",
       "      <td>18</td>\n",
       "      <td>11</td>\n",
       "      <td>1</td>\n",
       "    </tr>\n",
       "    <tr>\n",
       "      <th>PropertyClass</th>\n",
       "      <td>8</td>\n",
       "      <td>3</td>\n",
       "      <td>8</td>\n",
       "      <td>8</td>\n",
       "      <td>9</td>\n",
       "    </tr>\n",
       "    <tr>\n",
       "      <th>SaleWarning</th>\n",
       "      <td></td>\n",
       "      <td>11</td>\n",
       "      <td>18 31 51</td>\n",
       "      <td>18 31 38</td>\n",
       "      <td>49</td>\n",
       "    </tr>\n",
       "  </tbody>\n",
       "</table>\n",
       "</div>"
      ],
      "text/plain": [
       "                                                                    0  \\\n",
       "ExciseTaxNbr                                                  2687551   \n",
       "Major                                                          138860   \n",
       "Minor                                                             110   \n",
       "DocumentDate                                               08/21/2014   \n",
       "SalePrice                                                      245000   \n",
       "RecordingNbr                                           20140828001436   \n",
       "Volume                                                                  \n",
       "Page                                                                    \n",
       "PlatNbr                                                                 \n",
       "PlatType                                                                \n",
       "PlatLot                                                                 \n",
       "PlatBlock                                                               \n",
       "SellerName          WENKLE NOEL SMITH -TRUSTEE                    ...   \n",
       "BuyerName           ALEXANDER APRIL                               ...   \n",
       "PropertyType                                                        3   \n",
       "PrincipalUse                                                        6   \n",
       "SaleInstrument                                                      3   \n",
       "AFForestLand                                                        N   \n",
       "AFCurrentUseLand                                                    N   \n",
       "AFNonProfitUse                                                      N   \n",
       "AFHistoricProperty                                                  N   \n",
       "SaleReason                                                          1   \n",
       "PropertyClass                                                       8   \n",
       "SaleWarning                                                             \n",
       "\n",
       "                                                                    1  \\\n",
       "ExciseTaxNbr                                                  1235111   \n",
       "Major                                                          664885   \n",
       "Minor                                                              40   \n",
       "DocumentDate                                               07/09/1991   \n",
       "SalePrice                                                           0   \n",
       "RecordingNbr                                           199203161090     \n",
       "Volume                                                            071   \n",
       "Page                                                              001   \n",
       "PlatNbr                                                        664885   \n",
       "PlatType                                                            C   \n",
       "PlatLot                                                B102             \n",
       "PlatBlock                                                               \n",
       "SellerName          HERRMAN JEFFREY A+PAULINE A                   ...   \n",
       "BuyerName           HERRMAN PAULINE A TTEE                        ...   \n",
       "PropertyType                                                        3   \n",
       "PrincipalUse                                                        0   \n",
       "SaleInstrument                                                     26   \n",
       "AFForestLand                                                        N   \n",
       "AFCurrentUseLand                                                    N   \n",
       "AFNonProfitUse                                                      N   \n",
       "AFHistoricProperty                                                  N   \n",
       "SaleReason                                                         18   \n",
       "PropertyClass                                                       3   \n",
       "SaleWarning                                                        11   \n",
       "\n",
       "                                                                    2  \\\n",
       "ExciseTaxNbr                                                  2704079   \n",
       "Major                                                          423943   \n",
       "Minor                                                              50   \n",
       "DocumentDate                                               10/11/2014   \n",
       "SalePrice                                                           0   \n",
       "RecordingNbr                                           20141205000558   \n",
       "Volume                                                                  \n",
       "Page                                                                    \n",
       "PlatNbr                                                                 \n",
       "PlatType                                                                \n",
       "PlatLot                                                                 \n",
       "PlatBlock                                                               \n",
       "SellerName          STEPHENS ANTHONY P                            ...   \n",
       "BuyerName           STEPHENS ANTHONY P                            ...   \n",
       "PropertyType                                                        3   \n",
       "PrincipalUse                                                        6   \n",
       "SaleInstrument                                                     15   \n",
       "AFForestLand                                                        N   \n",
       "AFCurrentUseLand                                                    N   \n",
       "AFNonProfitUse                                                      N   \n",
       "AFHistoricProperty                                                  N   \n",
       "SaleReason                                                         18   \n",
       "PropertyClass                                                       8   \n",
       "SaleWarning                                                  18 31 51   \n",
       "\n",
       "                                                                    3  \\\n",
       "ExciseTaxNbr                                                  2584094   \n",
       "Major                                                          403700   \n",
       "Minor                                                             715   \n",
       "DocumentDate                                               01/04/2013   \n",
       "SalePrice                                                           0   \n",
       "RecordingNbr                                           20130110000910   \n",
       "Volume                                                                  \n",
       "Page                                                                    \n",
       "PlatNbr                                                                 \n",
       "PlatType                                                                \n",
       "PlatLot                                                                 \n",
       "PlatBlock                                                               \n",
       "SellerName          PASTORS EDWIN                                 ...   \n",
       "BuyerName           PASTORS KHRISTINA                             ...   \n",
       "PropertyType                                                        3   \n",
       "PrincipalUse                                                        6   \n",
       "SaleInstrument                                                     15   \n",
       "AFForestLand                                                        N   \n",
       "AFCurrentUseLand                                                    N   \n",
       "AFNonProfitUse                                                      N   \n",
       "AFHistoricProperty                                                  N   \n",
       "SaleReason                                                         11   \n",
       "PropertyClass                                                       8   \n",
       "SaleWarning                                                  18 31 38   \n",
       "\n",
       "                                                                    4  \n",
       "ExciseTaxNbr                                                  1056831  \n",
       "Major                                                          951120  \n",
       "Minor                                                             900  \n",
       "DocumentDate                                               04/20/1989  \n",
       "SalePrice                                                       85000  \n",
       "RecordingNbr                                           198904260448    \n",
       "Volume                                                            117  \n",
       "Page                                                              053  \n",
       "PlatNbr                                                        951120  \n",
       "PlatType                                                            P  \n",
       "PlatLot                                                90              \n",
       "PlatBlock                                                              \n",
       "SellerName          STRATHY FLORENCE G                            ...  \n",
       "BuyerName           PORTER DONALD D+EVELYN V                      ...  \n",
       "PropertyType                                                        3  \n",
       "PrincipalUse                                                        0  \n",
       "SaleInstrument                                                      2  \n",
       "AFForestLand                                                        N  \n",
       "AFCurrentUseLand                                                    N  \n",
       "AFNonProfitUse                                                      N  \n",
       "AFHistoricProperty                                                  N  \n",
       "SaleReason                                                          1  \n",
       "PropertyClass                                                       9  \n",
       "SaleWarning                                                        49  "
      ]
     },
     "execution_count": 49,
     "metadata": {},
     "output_type": "execute_result"
    }
   ],
   "source": [
    "sales_df.head().T"
   ]
  },
  {
   "cell_type": "markdown",
   "metadata": {},
   "source": [
    "### Data overload?\n",
    "\n",
    "That's a lot of columns. We're only interested in identifying the date, sale price, and square footage of each specific property. What can we do?"
   ]
  },
  {
   "cell_type": "code",
   "execution_count": 50,
   "metadata": {},
   "outputs": [],
   "source": [
    "sales_df = sales_df[['Major', 'Minor', 'DocumentDate', 'SalePrice']]"
   ]
  },
  {
   "cell_type": "code",
   "execution_count": 51,
   "metadata": {},
   "outputs": [
    {
     "name": "stdout",
     "output_type": "stream",
     "text": [
      "<class 'pandas.core.frame.DataFrame'>\n",
      "RangeIndex: 2014336 entries, 0 to 2014335\n",
      "Data columns (total 4 columns):\n",
      "Major           object\n",
      "Minor           object\n",
      "DocumentDate    object\n",
      "SalePrice       int64\n",
      "dtypes: int64(1), object(3)\n",
      "memory usage: 61.5+ MB\n"
     ]
    }
   ],
   "source": [
    "sales_df.info()"
   ]
  },
  {
   "cell_type": "code",
   "execution_count": 52,
   "metadata": {
    "scrolled": true
   },
   "outputs": [
    {
     "name": "stderr",
     "output_type": "stream",
     "text": [
      "/anaconda3/envs/learn-env/lib/python3.6/site-packages/IPython/core/interactiveshell.py:2785: DtypeWarning: Columns (11) have mixed types. Specify dtype option on import or set low_memory=False.\n",
      "  interactivity=interactivity, compiler=compiler, result=result)\n"
     ]
    }
   ],
   "source": [
    "bldg_df = pd.read_csv('data/Residential Building.zip')"
   ]
  },
  {
   "cell_type": "markdown",
   "metadata": {},
   "source": [
    "### Another warning! Which column has index 11?"
   ]
  },
  {
   "cell_type": "code",
   "execution_count": 53,
   "metadata": {
    "scrolled": true
   },
   "outputs": [
    {
     "data": {
      "text/plain": [
       "'ZipCode'"
      ]
     },
     "execution_count": 53,
     "metadata": {},
     "output_type": "execute_result"
    }
   ],
   "source": [
    "bldg_df.columns[11]"
   ]
  },
  {
   "cell_type": "markdown",
   "metadata": {},
   "source": [
    "`ZipCode` seems like a potentially useful column. We'll need it to determine which house sales took place in Seattle."
   ]
  },
  {
   "cell_type": "markdown",
   "metadata": {},
   "source": [
    "### So many features!\n",
    "\n",
    "As data scientists, we should be _very_ cautious about discarding potentially useful data. But, today, we're interested in _only_ the total square footage of each property. What can we do?\n"
   ]
  },
  {
   "cell_type": "code",
   "execution_count": 54,
   "metadata": {},
   "outputs": [],
   "source": [
    "bldg_df = bldg_df[['Major', 'Minor', 'SqFtTotLiving', 'ZipCode']]"
   ]
  },
  {
   "cell_type": "code",
   "execution_count": 55,
   "metadata": {
    "scrolled": true
   },
   "outputs": [
    {
     "name": "stdout",
     "output_type": "stream",
     "text": [
      "<class 'pandas.core.frame.DataFrame'>\n",
      "RangeIndex: 511412 entries, 0 to 511411\n",
      "Data columns (total 4 columns):\n",
      "Major            511412 non-null int64\n",
      "Minor            511412 non-null int64\n",
      "SqFtTotLiving    511412 non-null int64\n",
      "ZipCode          468372 non-null object\n",
      "dtypes: int64(3), object(1)\n",
      "memory usage: 15.6+ MB\n"
     ]
    }
   ],
   "source": [
    "bldg_df.info()"
   ]
  },
  {
   "cell_type": "code",
   "execution_count": 56,
   "metadata": {},
   "outputs": [],
   "source": [
    "#sales_data = pd.merge(sales_df, bldg_df, on=['Major', 'Minor'])"
   ]
  },
  {
   "cell_type": "markdown",
   "metadata": {},
   "source": [
    "### Error!\n",
    "\n",
    "Why are we seeing an error when we try to join the dataframes?\n",
    "\n",
    "<table>\n",
    "    <tr>\n",
    "        <td style=\"text-align:left\"><pre>\n",
    "<class 'pandas.core.frame.DataFrame'>\n",
    "RangeIndex: 2013160 entries, 0 to 2013159\n",
    "Data columns (total 4 columns):\n",
    "Major           object\n",
    "Minor           object\n",
    "DocumentDate    object\n",
    "SalePrice       int64\n",
    "dtypes: int64(1), object(3)\n",
    "memory usage: 61.4+ MB</pre></td>\n",
    "        <td style=\"text-align:left\"><pre>\n",
    "<class 'pandas.core.frame.DataFrame'>\n",
    "RangeIndex: 511359 entries, 0 to 511358\n",
    "Data columns (total 4 columns):\n",
    "Major            511359 non-null int64\n",
    "Minor            511359 non-null int64\n",
    "SqFtTotLiving    511359 non-null int64\n",
    "ZipCode          468345 non-null object\n",
    "dtypes: int64(3), object(1)\n",
    "memory usage: 15.6+ MB\n",
    "</pre></td>\n",
    "    </tr>\n",
    "</table>\n",
    "\n",
    "Review the error message in light of the above:\n",
    "\n",
    "* `ValueError: You are trying to merge on object and int64 columns.`"
   ]
  },
  {
   "cell_type": "code",
   "execution_count": 57,
   "metadata": {},
   "outputs": [
    {
     "data": {
      "text/plain": [
       "0    138860\n",
       "1    664885\n",
       "2    423943\n",
       "3    403700\n",
       "4    951120\n",
       "Name: Major, dtype: object"
      ]
     },
     "execution_count": 57,
     "metadata": {},
     "output_type": "execute_result"
    }
   ],
   "source": [
    "sales_df['Major'].head()"
   ]
  },
  {
   "cell_type": "markdown",
   "metadata": {},
   "source": [
    "### Error!\n",
    "\n",
    "Note the useful error message above:\n",
    "\n",
    "`ValueError: Unable to parse string \"      \" at position 936643`\n",
    "\n",
    "In this case, we want to treat non-numeric values as missing values. Let's see if there's a way to change how the `pd.to_numeric` function handles errors."
   ]
  },
  {
   "cell_type": "code",
   "execution_count": 58,
   "metadata": {},
   "outputs": [],
   "source": [
    "# The single question mark means \"show me the docstring\"\n",
    "#pd.to_numeric?"
   ]
  },
  {
   "cell_type": "markdown",
   "metadata": {},
   "source": [
    "Here's the part that we're looking for:\n",
    "```\n",
    "errors : {'ignore', 'raise', 'coerce'}, default 'raise'\n",
    "    - If 'raise', then invalid parsing will raise an exception\n",
    "    - If 'coerce', then invalid parsing will be set as NaN\n",
    "    - If 'ignore', then invalid parsing will return the input\n",
    "```\n",
    "\n",
    "Let's try setting the `errors` parameter to `'coerce'`."
   ]
  },
  {
   "cell_type": "code",
   "execution_count": 59,
   "metadata": {},
   "outputs": [],
   "source": [
    "sales_df['Major'] = pd.to_numeric(sales_df['Major'], errors='coerce')"
   ]
  },
  {
   "cell_type": "markdown",
   "metadata": {},
   "source": [
    "Did it work?"
   ]
  },
  {
   "cell_type": "code",
   "execution_count": 60,
   "metadata": {},
   "outputs": [
    {
     "name": "stdout",
     "output_type": "stream",
     "text": [
      "<class 'pandas.core.frame.DataFrame'>\n",
      "RangeIndex: 2014336 entries, 0 to 2014335\n",
      "Data columns (total 4 columns):\n",
      "Major           float64\n",
      "Minor           object\n",
      "DocumentDate    object\n",
      "SalePrice       int64\n",
      "dtypes: float64(1), int64(1), object(2)\n",
      "memory usage: 61.5+ MB\n"
     ]
    }
   ],
   "source": [
    "sales_df.info()"
   ]
  },
  {
   "cell_type": "markdown",
   "metadata": {},
   "source": [
    "It worked! Let's do the same thing with the `Minor` parcel number."
   ]
  },
  {
   "cell_type": "code",
   "execution_count": 61,
   "metadata": {},
   "outputs": [],
   "source": [
    "sales_df['Minor'] = pd.to_numeric(sales_df['Minor'], errors='coerce')"
   ]
  },
  {
   "cell_type": "code",
   "execution_count": 62,
   "metadata": {},
   "outputs": [
    {
     "name": "stdout",
     "output_type": "stream",
     "text": [
      "<class 'pandas.core.frame.DataFrame'>\n",
      "RangeIndex: 2014336 entries, 0 to 2014335\n",
      "Data columns (total 4 columns):\n",
      "Major           float64\n",
      "Minor           float64\n",
      "DocumentDate    object\n",
      "SalePrice       int64\n",
      "dtypes: float64(2), int64(1), object(1)\n",
      "memory usage: 61.5+ MB\n"
     ]
    }
   ],
   "source": [
    "sales_df.info()"
   ]
  },
  {
   "cell_type": "markdown",
   "metadata": {},
   "source": [
    "Now, let's try our join again."
   ]
  },
  {
   "cell_type": "code",
   "execution_count": 63,
   "metadata": {},
   "outputs": [],
   "source": [
    "sales_data = pd.merge(sales_df, bldg_df, on=['Major', 'Minor'])"
   ]
  },
  {
   "cell_type": "code",
   "execution_count": 64,
   "metadata": {},
   "outputs": [
    {
     "data": {
      "text/html": [
       "<div>\n",
       "<style scoped>\n",
       "    .dataframe tbody tr th:only-of-type {\n",
       "        vertical-align: middle;\n",
       "    }\n",
       "\n",
       "    .dataframe tbody tr th {\n",
       "        vertical-align: top;\n",
       "    }\n",
       "\n",
       "    .dataframe thead th {\n",
       "        text-align: right;\n",
       "    }\n",
       "</style>\n",
       "<table border=\"1\" class=\"dataframe\">\n",
       "  <thead>\n",
       "    <tr style=\"text-align: right;\">\n",
       "      <th></th>\n",
       "      <th>Major</th>\n",
       "      <th>Minor</th>\n",
       "      <th>DocumentDate</th>\n",
       "      <th>SalePrice</th>\n",
       "      <th>SqFtTotLiving</th>\n",
       "      <th>ZipCode</th>\n",
       "    </tr>\n",
       "  </thead>\n",
       "  <tbody>\n",
       "    <tr>\n",
       "      <th>0</th>\n",
       "      <td>138860.0</td>\n",
       "      <td>110.0</td>\n",
       "      <td>08/21/2014</td>\n",
       "      <td>245000</td>\n",
       "      <td>1490</td>\n",
       "      <td>98002</td>\n",
       "    </tr>\n",
       "    <tr>\n",
       "      <th>1</th>\n",
       "      <td>138860.0</td>\n",
       "      <td>110.0</td>\n",
       "      <td>06/12/1989</td>\n",
       "      <td>109300</td>\n",
       "      <td>1490</td>\n",
       "      <td>98002</td>\n",
       "    </tr>\n",
       "    <tr>\n",
       "      <th>2</th>\n",
       "      <td>138860.0</td>\n",
       "      <td>110.0</td>\n",
       "      <td>01/16/2005</td>\n",
       "      <td>14684</td>\n",
       "      <td>1490</td>\n",
       "      <td>98002</td>\n",
       "    </tr>\n",
       "    <tr>\n",
       "      <th>3</th>\n",
       "      <td>138860.0</td>\n",
       "      <td>110.0</td>\n",
       "      <td>06/08/2005</td>\n",
       "      <td>0</td>\n",
       "      <td>1490</td>\n",
       "      <td>98002</td>\n",
       "    </tr>\n",
       "    <tr>\n",
       "      <th>4</th>\n",
       "      <td>423943.0</td>\n",
       "      <td>50.0</td>\n",
       "      <td>10/11/2014</td>\n",
       "      <td>0</td>\n",
       "      <td>960</td>\n",
       "      <td>98092</td>\n",
       "    </tr>\n",
       "  </tbody>\n",
       "</table>\n",
       "</div>"
      ],
      "text/plain": [
       "      Major  Minor DocumentDate  SalePrice  SqFtTotLiving ZipCode\n",
       "0  138860.0  110.0   08/21/2014     245000           1490   98002\n",
       "1  138860.0  110.0   06/12/1989     109300           1490   98002\n",
       "2  138860.0  110.0   01/16/2005      14684           1490   98002\n",
       "3  138860.0  110.0   06/08/2005          0           1490   98002\n",
       "4  423943.0   50.0   10/11/2014          0            960   98092"
      ]
     },
     "execution_count": 64,
     "metadata": {},
     "output_type": "execute_result"
    }
   ],
   "source": [
    "sales_data.head()"
   ]
  },
  {
   "cell_type": "code",
   "execution_count": 65,
   "metadata": {},
   "outputs": [
    {
     "name": "stdout",
     "output_type": "stream",
     "text": [
      "<class 'pandas.core.frame.DataFrame'>\n",
      "Int64Index: 1437522 entries, 0 to 1437521\n",
      "Data columns (total 6 columns):\n",
      "Major            1437522 non-null float64\n",
      "Minor            1437522 non-null float64\n",
      "DocumentDate     1437522 non-null object\n",
      "SalePrice        1437522 non-null int64\n",
      "SqFtTotLiving    1437522 non-null int64\n",
      "ZipCode          1322148 non-null object\n",
      "dtypes: float64(2), int64(2), object(2)\n",
      "memory usage: 76.8+ MB\n"
     ]
    }
   ],
   "source": [
    "sales_data.info()"
   ]
  },
  {
   "cell_type": "markdown",
   "metadata": {},
   "source": [
    "We can see right away that we're missing zip codes for many of the sales transactions. (1321536 non-null entries for ZipCode is fewer than the 1436772 entries in the dataframe.) "
   ]
  },
  {
   "cell_type": "code",
   "execution_count": 66,
   "metadata": {},
   "outputs": [
    {
     "data": {
      "text/html": [
       "<div>\n",
       "<style scoped>\n",
       "    .dataframe tbody tr th:only-of-type {\n",
       "        vertical-align: middle;\n",
       "    }\n",
       "\n",
       "    .dataframe tbody tr th {\n",
       "        vertical-align: top;\n",
       "    }\n",
       "\n",
       "    .dataframe thead th {\n",
       "        text-align: right;\n",
       "    }\n",
       "</style>\n",
       "<table border=\"1\" class=\"dataframe\">\n",
       "  <thead>\n",
       "    <tr style=\"text-align: right;\">\n",
       "      <th></th>\n",
       "      <th>Major</th>\n",
       "      <th>Minor</th>\n",
       "      <th>DocumentDate</th>\n",
       "      <th>SalePrice</th>\n",
       "      <th>SqFtTotLiving</th>\n",
       "      <th>ZipCode</th>\n",
       "    </tr>\n",
       "  </thead>\n",
       "  <tbody>\n",
       "    <tr>\n",
       "      <th>99</th>\n",
       "      <td>858140.0</td>\n",
       "      <td>376.0</td>\n",
       "      <td>05/22/2012</td>\n",
       "      <td>0</td>\n",
       "      <td>900</td>\n",
       "      <td>NaN</td>\n",
       "    </tr>\n",
       "    <tr>\n",
       "      <th>100</th>\n",
       "      <td>858140.0</td>\n",
       "      <td>376.0</td>\n",
       "      <td>11/28/2017</td>\n",
       "      <td>0</td>\n",
       "      <td>900</td>\n",
       "      <td>NaN</td>\n",
       "    </tr>\n",
       "    <tr>\n",
       "      <th>152</th>\n",
       "      <td>720319.0</td>\n",
       "      <td>520.0</td>\n",
       "      <td>11/20/2013</td>\n",
       "      <td>699950</td>\n",
       "      <td>2840</td>\n",
       "      <td>NaN</td>\n",
       "    </tr>\n",
       "    <tr>\n",
       "      <th>153</th>\n",
       "      <td>720319.0</td>\n",
       "      <td>520.0</td>\n",
       "      <td>09/16/2013</td>\n",
       "      <td>0</td>\n",
       "      <td>2840</td>\n",
       "      <td>NaN</td>\n",
       "    </tr>\n",
       "    <tr>\n",
       "      <th>163</th>\n",
       "      <td>894677.0</td>\n",
       "      <td>240.0</td>\n",
       "      <td>12/21/2016</td>\n",
       "      <td>818161</td>\n",
       "      <td>2450</td>\n",
       "      <td>NaN</td>\n",
       "    </tr>\n",
       "  </tbody>\n",
       "</table>\n",
       "</div>"
      ],
      "text/plain": [
       "        Major  Minor DocumentDate  SalePrice  SqFtTotLiving ZipCode\n",
       "99   858140.0  376.0   05/22/2012          0            900     NaN\n",
       "100  858140.0  376.0   11/28/2017          0            900     NaN\n",
       "152  720319.0  520.0   11/20/2013     699950           2840     NaN\n",
       "153  720319.0  520.0   09/16/2013          0           2840     NaN\n",
       "163  894677.0  240.0   12/21/2016     818161           2450     NaN"
      ]
     },
     "execution_count": 66,
     "metadata": {},
     "output_type": "execute_result"
    }
   ],
   "source": [
    "sales_data.loc[sales_data['ZipCode'].isna()].head()"
   ]
  },
  {
   "cell_type": "markdown",
   "metadata": {},
   "source": [
    "Because we are interested in finding houses in Seattle zip codes, we will need to drop the rows with missing zip codes."
   ]
  },
  {
   "cell_type": "code",
   "execution_count": 67,
   "metadata": {},
   "outputs": [
    {
     "data": {
      "text/html": [
       "<div>\n",
       "<style scoped>\n",
       "    .dataframe tbody tr th:only-of-type {\n",
       "        vertical-align: middle;\n",
       "    }\n",
       "\n",
       "    .dataframe tbody tr th {\n",
       "        vertical-align: top;\n",
       "    }\n",
       "\n",
       "    .dataframe thead th {\n",
       "        text-align: right;\n",
       "    }\n",
       "</style>\n",
       "<table border=\"1\" class=\"dataframe\">\n",
       "  <thead>\n",
       "    <tr style=\"text-align: right;\">\n",
       "      <th></th>\n",
       "      <th>Major</th>\n",
       "      <th>Minor</th>\n",
       "      <th>DocumentDate</th>\n",
       "      <th>SalePrice</th>\n",
       "      <th>SqFtTotLiving</th>\n",
       "      <th>ZipCode</th>\n",
       "    </tr>\n",
       "  </thead>\n",
       "  <tbody>\n",
       "    <tr>\n",
       "      <th>0</th>\n",
       "      <td>138860.0</td>\n",
       "      <td>110.0</td>\n",
       "      <td>08/21/2014</td>\n",
       "      <td>245000</td>\n",
       "      <td>1490</td>\n",
       "      <td>98002</td>\n",
       "    </tr>\n",
       "    <tr>\n",
       "      <th>1</th>\n",
       "      <td>138860.0</td>\n",
       "      <td>110.0</td>\n",
       "      <td>06/12/1989</td>\n",
       "      <td>109300</td>\n",
       "      <td>1490</td>\n",
       "      <td>98002</td>\n",
       "    </tr>\n",
       "    <tr>\n",
       "      <th>2</th>\n",
       "      <td>138860.0</td>\n",
       "      <td>110.0</td>\n",
       "      <td>01/16/2005</td>\n",
       "      <td>14684</td>\n",
       "      <td>1490</td>\n",
       "      <td>98002</td>\n",
       "    </tr>\n",
       "    <tr>\n",
       "      <th>3</th>\n",
       "      <td>138860.0</td>\n",
       "      <td>110.0</td>\n",
       "      <td>06/08/2005</td>\n",
       "      <td>0</td>\n",
       "      <td>1490</td>\n",
       "      <td>98002</td>\n",
       "    </tr>\n",
       "    <tr>\n",
       "      <th>4</th>\n",
       "      <td>423943.0</td>\n",
       "      <td>50.0</td>\n",
       "      <td>10/11/2014</td>\n",
       "      <td>0</td>\n",
       "      <td>960</td>\n",
       "      <td>98092</td>\n",
       "    </tr>\n",
       "  </tbody>\n",
       "</table>\n",
       "</div>"
      ],
      "text/plain": [
       "      Major  Minor DocumentDate  SalePrice  SqFtTotLiving ZipCode\n",
       "0  138860.0  110.0   08/21/2014     245000           1490   98002\n",
       "1  138860.0  110.0   06/12/1989     109300           1490   98002\n",
       "2  138860.0  110.0   01/16/2005      14684           1490   98002\n",
       "3  138860.0  110.0   06/08/2005          0           1490   98002\n",
       "4  423943.0   50.0   10/11/2014          0            960   98092"
      ]
     },
     "execution_count": 67,
     "metadata": {},
     "output_type": "execute_result"
    }
   ],
   "source": [
    "sales_data = sales_data.loc[~sales_data['ZipCode'].isna(), :]\n",
    "\n",
    "sales_data.head()"
   ]
  },
  {
   "cell_type": "markdown",
   "metadata": {},
   "source": [
    "# Your turn: Data Cleaning with Pandas"
   ]
  },
  {
   "cell_type": "markdown",
   "metadata": {},
   "source": [
    "### 1. Investigate and drop rows with invalid values in the SalePrice and SqFtTotLiving columns.\n",
    "\n",
    "Use multiple notebook cells to accomplish this! Press `[esc]` then `B` to create a new cell below the current cell. Press `[return]` to start typing in the new cell."
   ]
  },
  {
   "cell_type": "code",
   "execution_count": 68,
   "metadata": {},
   "outputs": [
    {
     "data": {
      "text/plain": [
       "Index(['Major', 'Minor', 'DocumentDate', 'SalePrice', 'SqFtTotLiving',\n",
       "       'ZipCode'],\n",
       "      dtype='object')"
      ]
     },
     "execution_count": 68,
     "metadata": {},
     "output_type": "execute_result"
    }
   ],
   "source": [
    "#find the names of the columns\n",
    "sales_data.columns"
   ]
  },
  {
   "cell_type": "code",
   "execution_count": 69,
   "metadata": {
    "scrolled": true
   },
   "outputs": [
    {
     "data": {
      "text/html": [
       "<div>\n",
       "<style scoped>\n",
       "    .dataframe tbody tr th:only-of-type {\n",
       "        vertical-align: middle;\n",
       "    }\n",
       "\n",
       "    .dataframe tbody tr th {\n",
       "        vertical-align: top;\n",
       "    }\n",
       "\n",
       "    .dataframe thead th {\n",
       "        text-align: right;\n",
       "    }\n",
       "</style>\n",
       "<table border=\"1\" class=\"dataframe\">\n",
       "  <thead>\n",
       "    <tr style=\"text-align: right;\">\n",
       "      <th></th>\n",
       "      <th>Major</th>\n",
       "      <th>Minor</th>\n",
       "      <th>DocumentDate</th>\n",
       "      <th>SalePrice</th>\n",
       "      <th>SqFtTotLiving</th>\n",
       "      <th>ZipCode</th>\n",
       "    </tr>\n",
       "  </thead>\n",
       "  <tbody>\n",
       "  </tbody>\n",
       "</table>\n",
       "</div>"
      ],
      "text/plain": [
       "Empty DataFrame\n",
       "Columns: [Major, Minor, DocumentDate, SalePrice, SqFtTotLiving, ZipCode]\n",
       "Index: []"
      ]
     },
     "execution_count": 69,
     "metadata": {},
     "output_type": "execute_result"
    }
   ],
   "source": [
    "#see how many of the values in 'SalePrice' are not numbers\n",
    "sales_data.loc[sales_data['SalePrice'].isna()].head()"
   ]
  },
  {
   "cell_type": "code",
   "execution_count": 70,
   "metadata": {},
   "outputs": [
    {
     "data": {
      "text/html": [
       "<div>\n",
       "<style scoped>\n",
       "    .dataframe tbody tr th:only-of-type {\n",
       "        vertical-align: middle;\n",
       "    }\n",
       "\n",
       "    .dataframe tbody tr th {\n",
       "        vertical-align: top;\n",
       "    }\n",
       "\n",
       "    .dataframe thead th {\n",
       "        text-align: right;\n",
       "    }\n",
       "</style>\n",
       "<table border=\"1\" class=\"dataframe\">\n",
       "  <thead>\n",
       "    <tr style=\"text-align: right;\">\n",
       "      <th></th>\n",
       "      <th>Major</th>\n",
       "      <th>Minor</th>\n",
       "      <th>DocumentDate</th>\n",
       "      <th>SalePrice</th>\n",
       "      <th>SqFtTotLiving</th>\n",
       "      <th>ZipCode</th>\n",
       "    </tr>\n",
       "  </thead>\n",
       "  <tbody>\n",
       "    <tr>\n",
       "      <th>0</th>\n",
       "      <td>138860.0</td>\n",
       "      <td>110.0</td>\n",
       "      <td>08/21/2014</td>\n",
       "      <td>245000</td>\n",
       "      <td>1490</td>\n",
       "      <td>98002</td>\n",
       "    </tr>\n",
       "    <tr>\n",
       "      <th>1</th>\n",
       "      <td>138860.0</td>\n",
       "      <td>110.0</td>\n",
       "      <td>06/12/1989</td>\n",
       "      <td>109300</td>\n",
       "      <td>1490</td>\n",
       "      <td>98002</td>\n",
       "    </tr>\n",
       "    <tr>\n",
       "      <th>2</th>\n",
       "      <td>138860.0</td>\n",
       "      <td>110.0</td>\n",
       "      <td>01/16/2005</td>\n",
       "      <td>14684</td>\n",
       "      <td>1490</td>\n",
       "      <td>98002</td>\n",
       "    </tr>\n",
       "    <tr>\n",
       "      <th>6</th>\n",
       "      <td>423943.0</td>\n",
       "      <td>50.0</td>\n",
       "      <td>07/15/1999</td>\n",
       "      <td>96000</td>\n",
       "      <td>960</td>\n",
       "      <td>98092</td>\n",
       "    </tr>\n",
       "    <tr>\n",
       "      <th>7</th>\n",
       "      <td>423943.0</td>\n",
       "      <td>50.0</td>\n",
       "      <td>01/08/2001</td>\n",
       "      <td>127500</td>\n",
       "      <td>960</td>\n",
       "      <td>98092</td>\n",
       "    </tr>\n",
       "  </tbody>\n",
       "</table>\n",
       "</div>"
      ],
      "text/plain": [
       "      Major  Minor DocumentDate  SalePrice  SqFtTotLiving ZipCode\n",
       "0  138860.0  110.0   08/21/2014     245000           1490   98002\n",
       "1  138860.0  110.0   06/12/1989     109300           1490   98002\n",
       "2  138860.0  110.0   01/16/2005      14684           1490   98002\n",
       "6  423943.0   50.0   07/15/1999      96000            960   98092\n",
       "7  423943.0   50.0   01/08/2001     127500            960   98092"
      ]
     },
     "execution_count": 70,
     "metadata": {},
     "output_type": "execute_result"
    }
   ],
   "source": [
    "#show me only the rows where the 'SalePrice' value is 0, then bring me the list of their indices\n",
    "not_normal_home_sale = sales_data[sales_data['SalePrice']==0].index\n",
    "\n",
    "# Delete these row indexes from dataFrame\n",
    "sales_data.drop(not_normal_home_sale, inplace=True, axis=0)\n",
    "sales_data.head()"
   ]
  },
  {
   "cell_type": "markdown",
   "metadata": {},
   "source": [
    "### 2. Investigate and handle non-numeric ZipCode values\n",
    "\n",
    "Can you find a way to shorten ZIP+4 codes to the first five digits?\n",
    "\n",
    "What's the right thing to do with missing values?"
   ]
  },
  {
   "cell_type": "code",
   "execution_count": 71,
   "metadata": {},
   "outputs": [
    {
     "data": {
      "text/plain": [
       "count     867416\n",
       "unique       271\n",
       "top        98042\n",
       "freq       25815\n",
       "Name: ZipCode, dtype: object"
      ]
     },
     "execution_count": 71,
     "metadata": {},
     "output_type": "execute_result"
    }
   ],
   "source": [
    "sales_data.ZipCode.describe()"
   ]
  },
  {
   "cell_type": "code",
   "execution_count": 72,
   "metadata": {
    "scrolled": true
   },
   "outputs": [
    {
     "data": {
      "text/plain": [
       "'98002'"
      ]
     },
     "execution_count": 72,
     "metadata": {},
     "output_type": "execute_result"
    }
   ],
   "source": [
    "#confirm the right length of zip code we want\n",
    "sales_data.ZipCode[0][0:5]"
   ]
  },
  {
   "cell_type": "code",
   "execution_count": 73,
   "metadata": {},
   "outputs": [],
   "source": [
    "#convert the series to strings\n",
    "sales_data.ZipCode = sales_data.ZipCode.apply(np.str)"
   ]
  },
  {
   "cell_type": "code",
   "execution_count": 74,
   "metadata": {
    "scrolled": true
   },
   "outputs": [
    {
     "data": {
      "text/plain": [
       "0            98002\n",
       "1            98002\n",
       "2            98002\n",
       "6            98092\n",
       "7            98092\n",
       "11           98008\n",
       "12           98008\n",
       "13           98008\n",
       "14           98008\n",
       "16           98058\n",
       "17           98058\n",
       "19           98038\n",
       "20           98038\n",
       "21           98038\n",
       "22           98038\n",
       "23           98038\n",
       "25           98031\n",
       "26           98031\n",
       "27           98031\n",
       "29           98058\n",
       "31           98058\n",
       "32           98058\n",
       "33           98058\n",
       "34           98188\n",
       "36           98188\n",
       "38           98051\n",
       "39           98051\n",
       "40           98001\n",
       "42           98001\n",
       "44           98001\n",
       "            ...   \n",
       "1437478      98116\n",
       "1437479      98146\n",
       "1437481      98042\n",
       "1437484      98125\n",
       "1437485      98077\n",
       "1437487      98031\n",
       "1437488      98072\n",
       "1437489      98053\n",
       "1437490      98105\n",
       "1437491      98102\n",
       "1437492      98042\n",
       "1437493      98042\n",
       "1437498      98105\n",
       "1437499      98005\n",
       "1437500      98005\n",
       "1437502    98115.0\n",
       "1437504      98077\n",
       "1437505      98001\n",
       "1437508      98109\n",
       "1437509      98058\n",
       "1437510      98028\n",
       "1437511      98108\n",
       "1437512      98177\n",
       "1437513      98155\n",
       "1437514      98022\n",
       "1437515      98008\n",
       "1437516      98116\n",
       "1437517      98059\n",
       "1437519    98077.0\n",
       "1437520      98027\n",
       "Name: ZipCode, Length: 867416, dtype: object"
      ]
     },
     "execution_count": 74,
     "metadata": {},
     "output_type": "execute_result"
    }
   ],
   "source": [
    "#strip away any empty space\n",
    "sales_data.ZipCode.str.strip()"
   ]
  },
  {
   "cell_type": "code",
   "execution_count": 75,
   "metadata": {},
   "outputs": [],
   "source": [
    "#get the index numbers of zip codes that are 5 digits long\n",
    "too_long_zips = sales_data[sales_data.ZipCode.str.len() > 5].index\n",
    "#sales_data[sales_data['SalePrice']==0].index\n"
   ]
  },
  {
   "cell_type": "code",
   "execution_count": 76,
   "metadata": {},
   "outputs": [],
   "source": [
    "#drop rows that don't have that criteria\n",
    "sales_data.drop(too_long_zips, inplace=True, axis=0)\n",
    "#not_normal_home_sale, inplace=True, axis=0"
   ]
  },
  {
   "cell_type": "code",
   "execution_count": 77,
   "metadata": {
    "scrolled": true
   },
   "outputs": [
    {
     "data": {
      "text/html": [
       "<div>\n",
       "<style scoped>\n",
       "    .dataframe tbody tr th:only-of-type {\n",
       "        vertical-align: middle;\n",
       "    }\n",
       "\n",
       "    .dataframe tbody tr th {\n",
       "        vertical-align: top;\n",
       "    }\n",
       "\n",
       "    .dataframe thead th {\n",
       "        text-align: right;\n",
       "    }\n",
       "</style>\n",
       "<table border=\"1\" class=\"dataframe\">\n",
       "  <thead>\n",
       "    <tr style=\"text-align: right;\">\n",
       "      <th></th>\n",
       "      <th>Major</th>\n",
       "      <th>Minor</th>\n",
       "      <th>DocumentDate</th>\n",
       "      <th>SalePrice</th>\n",
       "      <th>SqFtTotLiving</th>\n",
       "      <th>ZipCode</th>\n",
       "    </tr>\n",
       "  </thead>\n",
       "  <tbody>\n",
       "  </tbody>\n",
       "</table>\n",
       "</div>"
      ],
      "text/plain": [
       "Empty DataFrame\n",
       "Columns: [Major, Minor, DocumentDate, SalePrice, SqFtTotLiving, ZipCode]\n",
       "Index: []"
      ]
     },
     "execution_count": 77,
     "metadata": {},
     "output_type": "execute_result"
    }
   ],
   "source": [
    "#confirm we've dealth with the too long zip codes\n",
    "sales_data[sales_data.ZipCode.str.len() > 5]"
   ]
  },
  {
   "cell_type": "code",
   "execution_count": 78,
   "metadata": {},
   "outputs": [],
   "source": [
    "#do the same with the too short zip codes\n",
    "too_short_zips = sales_data[sales_data.ZipCode.str.len() < 5].index\n",
    "sales_data.drop(too_short_zips, inplace=True, axis=0)"
   ]
  },
  {
   "cell_type": "code",
   "execution_count": 79,
   "metadata": {},
   "outputs": [
    {
     "data": {
      "text/html": [
       "<div>\n",
       "<style scoped>\n",
       "    .dataframe tbody tr th:only-of-type {\n",
       "        vertical-align: middle;\n",
       "    }\n",
       "\n",
       "    .dataframe tbody tr th {\n",
       "        vertical-align: top;\n",
       "    }\n",
       "\n",
       "    .dataframe thead th {\n",
       "        text-align: right;\n",
       "    }\n",
       "</style>\n",
       "<table border=\"1\" class=\"dataframe\">\n",
       "  <thead>\n",
       "    <tr style=\"text-align: right;\">\n",
       "      <th></th>\n",
       "      <th>Major</th>\n",
       "      <th>Minor</th>\n",
       "      <th>DocumentDate</th>\n",
       "      <th>SalePrice</th>\n",
       "      <th>SqFtTotLiving</th>\n",
       "      <th>ZipCode</th>\n",
       "    </tr>\n",
       "  </thead>\n",
       "  <tbody>\n",
       "  </tbody>\n",
       "</table>\n",
       "</div>"
      ],
      "text/plain": [
       "Empty DataFrame\n",
       "Columns: [Major, Minor, DocumentDate, SalePrice, SqFtTotLiving, ZipCode]\n",
       "Index: []"
      ]
     },
     "execution_count": 79,
     "metadata": {},
     "output_type": "execute_result"
    }
   ],
   "source": [
    "#confirm the too short zips are gone\n",
    "sales_data[sales_data.ZipCode.str.len() < 5]"
   ]
  },
  {
   "cell_type": "code",
   "execution_count": 80,
   "metadata": {},
   "outputs": [],
   "source": [
    "#convert the zip codes to ints\n",
    "sales_data.ZipCode = sales_data.ZipCode.apply(np.int64)"
   ]
  },
  {
   "cell_type": "code",
   "execution_count": 81,
   "metadata": {},
   "outputs": [
    {
     "data": {
      "text/plain": [
       "array([98002, 98092, 98008, 98058, 98038, 98031, 98188, 98051, 98001,\n",
       "       98108, 98198, 98115, 98118, 98072, 98117, 98039, 98155, 98075,\n",
       "       98003, 98103, 98022, 98042, 98040, 98133, 98105, 98056, 98102,\n",
       "       98053, 98168, 98027, 98011, 98074, 98146, 98024, 98029, 98006,\n",
       "       98005, 98028, 98034, 98144, 98030, 98177, 98166, 98065, 98112,\n",
       "       98116, 98010, 98199, 98032, 98106, 98059, 98070, 98045, 98136,\n",
       "       98125, 98023, 98033, 98077, 98109, 98055, 98178, 98052, 98122,\n",
       "       98014, 98004, 98119, 98107, 98126, 98007, 98019, 98224, 98148,\n",
       "       98047, 98288, 98050, 98354, 98068, 98057, 98302, 98083, 98121,\n",
       "       98043, 98113, 98134, 98026, 89118, 98104, 98000, 98204, 98035,\n",
       "       98422, 98132, 95059, 98097, 28028, 98189, 98017, 98025, 98044,\n",
       "       98111, 90108, 98079, 98021, 95055, 98009, 98063, 98176, 98101,\n",
       "       99019, 90855, 98054])"
      ]
     },
     "execution_count": 81,
     "metadata": {},
     "output_type": "execute_result"
    }
   ],
   "source": [
    "#confirm all the zipcodes are the right length\n",
    "sales_data.ZipCode.unique()"
   ]
  },
  {
   "cell_type": "markdown",
   "metadata": {},
   "source": [
    "### 3. Add a column for PricePerSqFt\n",
    "\n"
   ]
  },
  {
   "cell_type": "code",
   "execution_count": 82,
   "metadata": {},
   "outputs": [],
   "source": [
    "#add the price per sq foot column\n",
    "sales_data['PricePerSqFt'] = sales_data.SalePrice / sales_data.SqFtTotLiving"
   ]
  },
  {
   "cell_type": "markdown",
   "metadata": {},
   "source": [
    "### 4. Subset the data to 2019 sales only.\n",
    "\n",
    "We can assume that the DocumentDate is approximately the sale date."
   ]
  },
  {
   "cell_type": "code",
   "execution_count": 83,
   "metadata": {},
   "outputs": [
    {
     "data": {
      "text/html": [
       "<div>\n",
       "<style scoped>\n",
       "    .dataframe tbody tr th:only-of-type {\n",
       "        vertical-align: middle;\n",
       "    }\n",
       "\n",
       "    .dataframe tbody tr th {\n",
       "        vertical-align: top;\n",
       "    }\n",
       "\n",
       "    .dataframe thead th {\n",
       "        text-align: right;\n",
       "    }\n",
       "</style>\n",
       "<table border=\"1\" class=\"dataframe\">\n",
       "  <thead>\n",
       "    <tr style=\"text-align: right;\">\n",
       "      <th></th>\n",
       "      <th>Major</th>\n",
       "      <th>Minor</th>\n",
       "      <th>DocumentDate</th>\n",
       "      <th>SalePrice</th>\n",
       "      <th>SqFtTotLiving</th>\n",
       "      <th>ZipCode</th>\n",
       "      <th>PricePerSqFt</th>\n",
       "    </tr>\n",
       "  </thead>\n",
       "  <tbody>\n",
       "    <tr>\n",
       "      <th>605</th>\n",
       "      <td>214090.0</td>\n",
       "      <td>110.0</td>\n",
       "      <td>03/06/2019</td>\n",
       "      <td>390000</td>\n",
       "      <td>1780</td>\n",
       "      <td>98042</td>\n",
       "      <td>219.101124</td>\n",
       "    </tr>\n",
       "    <tr>\n",
       "      <th>651</th>\n",
       "      <td>367890.0</td>\n",
       "      <td>30.0</td>\n",
       "      <td>03/13/2019</td>\n",
       "      <td>923000</td>\n",
       "      <td>2550</td>\n",
       "      <td>98144</td>\n",
       "      <td>361.960784</td>\n",
       "    </tr>\n",
       "    <tr>\n",
       "      <th>868</th>\n",
       "      <td>350160.0</td>\n",
       "      <td>125.0</td>\n",
       "      <td>02/06/2019</td>\n",
       "      <td>935000</td>\n",
       "      <td>2460</td>\n",
       "      <td>98117</td>\n",
       "      <td>380.081301</td>\n",
       "    </tr>\n",
       "    <tr>\n",
       "      <th>1063</th>\n",
       "      <td>882790.0</td>\n",
       "      <td>870.0</td>\n",
       "      <td>02/15/2019</td>\n",
       "      <td>890000</td>\n",
       "      <td>2380</td>\n",
       "      <td>98105</td>\n",
       "      <td>373.949580</td>\n",
       "    </tr>\n",
       "    <tr>\n",
       "      <th>1341</th>\n",
       "      <td>30200.0</td>\n",
       "      <td>645.0</td>\n",
       "      <td>03/04/2019</td>\n",
       "      <td>380000</td>\n",
       "      <td>1750</td>\n",
       "      <td>98001</td>\n",
       "      <td>217.142857</td>\n",
       "    </tr>\n",
       "  </tbody>\n",
       "</table>\n",
       "</div>"
      ],
      "text/plain": [
       "         Major  Minor DocumentDate  SalePrice  SqFtTotLiving  ZipCode  \\\n",
       "605   214090.0  110.0   03/06/2019     390000           1780    98042   \n",
       "651   367890.0   30.0   03/13/2019     923000           2550    98144   \n",
       "868   350160.0  125.0   02/06/2019     935000           2460    98117   \n",
       "1063  882790.0  870.0   02/15/2019     890000           2380    98105   \n",
       "1341   30200.0  645.0   03/04/2019     380000           1750    98001   \n",
       "\n",
       "      PricePerSqFt  \n",
       "605     219.101124  \n",
       "651     361.960784  \n",
       "868     380.081301  \n",
       "1063    373.949580  \n",
       "1341    217.142857  "
      ]
     },
     "execution_count": 83,
     "metadata": {},
     "output_type": "execute_result"
    }
   ],
   "source": [
    "#only show the rows where the date has 2019 in it\n",
    "sales_data[sales_data.DocumentDate.str.contains('2019')].head()"
   ]
  },
  {
   "cell_type": "markdown",
   "metadata": {},
   "source": [
    "### 5. Subset the data to zip codes within the City of Seattle.\n",
    "\n",
    "You'll need to find a list of Seattle zip codes!"
   ]
  },
  {
   "cell_type": "code",
   "execution_count": 84,
   "metadata": {},
   "outputs": [],
   "source": [
    "#make a list of seattle zip codes\n",
    "seattle_city_zips = [98101, 98102, 98103, 98104, 98105, 98106, 98107, 98108, 98109, 98110, 98111, 98112, 98113, 98114, 98115, \n",
    "                     98116, 98117, 98118, 98119, 98121, 98122, 98124, 98125, 98126, 98127, 98129, 98131, 98133, 98134, \n",
    "                     98136, 98138, 98139, 98141, 98144, 98145, 98146, 98148, 98154, 98155, 98158, 98160, 98161, 98164, \n",
    "                     98165, 98166, 98168, 98170, 98174, 98175, 98177, 98178, 98181, 98185, 98188, 98190, 98191, 98194, \n",
    "                     98195, 98199]"
   ]
  },
  {
   "cell_type": "code",
   "execution_count": 85,
   "metadata": {},
   "outputs": [],
   "source": [
    "#set this new dataframe to a variable\n",
    "seattle_sales = sales_data.loc[sales_data.ZipCode.isin(seattle_city_zips)]\n"
   ]
  },
  {
   "cell_type": "markdown",
   "metadata": {},
   "source": [
    "### 6. What is the mean price per square foot for a house sold in Seattle in 2019?\n",
    "\n",
    "Don't just type the answer. Type code that generates the answer as output!"
   ]
  },
  {
   "cell_type": "code",
   "execution_count": 86,
   "metadata": {},
   "outputs": [],
   "source": [
    "#exclude the impossible large numbers and the rediculously small numbers\n",
    "seattle_sales = seattle_sales.loc[seattle_sales.PricePerSqFt <10000]\n",
    "seattle_sales = seattle_sales.loc[seattle_sales.PricePerSqFt >0]"
   ]
  },
  {
   "cell_type": "code",
   "execution_count": 89,
   "metadata": {},
   "outputs": [
    {
     "data": {
      "text/plain": [
       "480.0617565732615"
      ]
     },
     "execution_count": 89,
     "metadata": {},
     "output_type": "execute_result"
    }
   ],
   "source": [
    "#lookup rows that have a document date with 2019 in it\n",
    "#then lookup their price per square foot and find the mean\n",
    "seattle_sales.loc[seattle_sales['DocumentDate'].str.contains('2019')].PricePerSqFt.mean()"
   ]
  },
  {
   "cell_type": "code",
   "execution_count": 88,
   "metadata": {},
   "outputs": [],
   "source": [
    "#I'm done now!"
   ]
  }
 ],
 "metadata": {
  "kernelspec": {
   "display_name": "Python 3",
   "language": "python",
   "name": "python3"
  },
  "language_info": {
   "codemirror_mode": {
    "name": "ipython",
    "version": 3
   },
   "file_extension": ".py",
   "mimetype": "text/x-python",
   "name": "python",
   "nbconvert_exporter": "python",
   "pygments_lexer": "ipython3",
   "version": "3.6.6"
  }
 },
 "nbformat": 4,
 "nbformat_minor": 2
}
